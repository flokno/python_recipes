{
 "cells": [
  {
   "cell_type": "code",
   "execution_count": 1,
   "id": "5624c8c1-4665-4cd2-95ea-420d80ee2025",
   "metadata": {},
   "outputs": [],
   "source": [
    "from pathlib import Path\n",
    "\n",
    "import matplotlib as plt\n",
    "import numpy as np\n",
    "import pandas as pd"
   ]
  },
  {
   "cell_type": "code",
   "execution_count": 2,
   "id": "cb06a7c2-80cf-4c7c-a5a8-01ffa0ff9d06",
   "metadata": {},
   "outputs": [
    {
     "data": {
      "text/plain": [
       "array([[  1.,   4.,  35., ...,   4.,  35.,  51.],\n",
       "       [  2.,   4.,  36., ...,   4.,  36.,  53.],\n",
       "       [  3.,   4.,  37., ...,   4.,  37.,  55.],\n",
       "       ...,\n",
       "       [254., 234., 247., ..., 234., 247.,  89.],\n",
       "       [255., 233., 249., ..., 233., 249.,  90.],\n",
       "       [256., 232., 250., ..., 232., 250.,  91.]])"
      ]
     },
     "execution_count": 2,
     "metadata": {},
     "output_type": "execute_result"
    }
   ],
   "source": [
    "file = \"cmocean-gmt/cpt/thermal.cpt\"\n",
    "data = np.loadtxt(file)\n",
    "data"
   ]
  },
  {
   "cell_type": "code",
   "execution_count": 3,
   "id": "46b13f55-01b5-4250-b49c-5f1ae8bef99f",
   "metadata": {},
   "outputs": [],
   "source": [
    "outfile = \"cmocean.xlsx\"\n",
    "\n",
    "pd.DataFrame(data[:, 1:4], columns=[\"R\", \"G\", \"B\"]).to_excel(\n",
    "    outfile, sheet_name=\"thermal\"\n",
    ")"
   ]
  },
  {
   "cell_type": "code",
   "execution_count": 4,
   "id": "0f4a0576-d77c-4aac-b630-5da4cca4759d",
   "metadata": {},
   "outputs": [],
   "source": [
    "files = sorted(Path(\"cmocean-gmt/cpt/\").glob(\"*.cpt\"))\n",
    "columns = [\"R\", \"G\", \"B\"]\n",
    "\n",
    "with pd.ExcelWriter(outfile) as fd:\n",
    "    for file in files:\n",
    "        data = np.loadtxt(file)\n",
    "        pd.DataFrame(data[:, 1:4], columns=columns).to_excel(fd, sheet_name=file.stem)"
   ]
  },
  {
   "cell_type": "code",
   "execution_count": null,
   "id": "c6dc1ffa-4bfc-4e68-8c50-91ee547c3e1c",
   "metadata": {},
   "outputs": [],
   "source": []
  }
 ],
 "metadata": {
  "kernelspec": {
   "display_name": "Python 3 (ipykernel)",
   "language": "python",
   "name": "python3"
  },
  "language_info": {
   "codemirror_mode": {
    "name": "ipython",
    "version": 3
   },
   "file_extension": ".py",
   "mimetype": "text/x-python",
   "name": "python",
   "nbconvert_exporter": "python",
   "pygments_lexer": "ipython3",
   "version": "3.9.15"
  }
 },
 "nbformat": 4,
 "nbformat_minor": 5
}